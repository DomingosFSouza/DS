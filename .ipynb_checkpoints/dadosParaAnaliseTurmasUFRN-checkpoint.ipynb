{
 "cells": [
  {
   "cell_type": "code",
   "execution_count": 1,
   "metadata": {
    "id": "KfqF-e0SnRb6"
   },
   "outputs": [],
   "source": [
    "import pandas as pd\n",
    "import numpy as np\n",
    "import os\n",
    "import mysql.connector"
   ]
  },
  {
   "cell_type": "code",
   "execution_count": 2,
   "metadata": {
    "id": "ESJ5Lv10nRcP"
   },
   "outputs": [
    {
     "ename": "FileNotFoundError",
     "evalue": "[Errno 2] No such file or directory: 'notas_discentes_2017.1.csv'",
     "output_type": "error",
     "traceback": [
      "\u001b[0;31m---------------------------------------------------------------------------\u001b[0m",
      "\u001b[0;31mFileNotFoundError\u001b[0m                         Traceback (most recent call last)",
      "\u001b[0;32m/tmp/ipykernel_9407/2872594324.py\u001b[0m in \u001b[0;36m<module>\u001b[0;34m\u001b[0m\n\u001b[0;32m----> 1\u001b[0;31m \u001b[0mnotas\u001b[0m \u001b[0;34m=\u001b[0m \u001b[0mpd\u001b[0m\u001b[0;34m.\u001b[0m\u001b[0mread_csv\u001b[0m\u001b[0;34m(\u001b[0m\u001b[0;34m'notas_discentes_2017.1.csv'\u001b[0m\u001b[0;34m,\u001b[0m \u001b[0msep\u001b[0m\u001b[0;34m=\u001b[0m\u001b[0;34m';'\u001b[0m\u001b[0;34m,\u001b[0m \u001b[0mencoding\u001b[0m\u001b[0;34m=\u001b[0m\u001b[0;34m'latin1'\u001b[0m\u001b[0;34m)\u001b[0m\u001b[0;34m\u001b[0m\u001b[0;34m\u001b[0m\u001b[0m\n\u001b[0m\u001b[1;32m      2\u001b[0m \u001b[0mnotas\u001b[0m \u001b[0;34m=\u001b[0m \u001b[0mnotas\u001b[0m\u001b[0;34m.\u001b[0m\u001b[0mdrop\u001b[0m\u001b[0;34m(\u001b[0m\u001b[0;34m[\u001b[0m\u001b[0;34m'Nome'\u001b[0m\u001b[0;34m,\u001b[0m \u001b[0;34m'Siape'\u001b[0m\u001b[0;34m,\u001b[0m \u001b[0;34m'Horário'\u001b[0m\u001b[0;34m,\u001b[0m \u001b[0;34m'Situação'\u001b[0m\u001b[0;34m]\u001b[0m\u001b[0;34m,\u001b[0m \u001b[0maxis\u001b[0m\u001b[0;34m=\u001b[0m\u001b[0;36m1\u001b[0m\u001b[0;34m)\u001b[0m\u001b[0;34m\u001b[0m\u001b[0;34m\u001b[0m\u001b[0m\n",
      "\u001b[0;32m~/anaconda3/lib/python3.9/site-packages/pandas/util/_decorators.py\u001b[0m in \u001b[0;36mwrapper\u001b[0;34m(*args, **kwargs)\u001b[0m\n\u001b[1;32m    309\u001b[0m                     \u001b[0mstacklevel\u001b[0m\u001b[0;34m=\u001b[0m\u001b[0mstacklevel\u001b[0m\u001b[0;34m,\u001b[0m\u001b[0;34m\u001b[0m\u001b[0;34m\u001b[0m\u001b[0m\n\u001b[1;32m    310\u001b[0m                 )\n\u001b[0;32m--> 311\u001b[0;31m             \u001b[0;32mreturn\u001b[0m \u001b[0mfunc\u001b[0m\u001b[0;34m(\u001b[0m\u001b[0;34m*\u001b[0m\u001b[0margs\u001b[0m\u001b[0;34m,\u001b[0m \u001b[0;34m**\u001b[0m\u001b[0mkwargs\u001b[0m\u001b[0;34m)\u001b[0m\u001b[0;34m\u001b[0m\u001b[0;34m\u001b[0m\u001b[0m\n\u001b[0m\u001b[1;32m    312\u001b[0m \u001b[0;34m\u001b[0m\u001b[0m\n\u001b[1;32m    313\u001b[0m         \u001b[0;32mreturn\u001b[0m \u001b[0mwrapper\u001b[0m\u001b[0;34m\u001b[0m\u001b[0;34m\u001b[0m\u001b[0m\n",
      "\u001b[0;32m~/anaconda3/lib/python3.9/site-packages/pandas/io/parsers/readers.py\u001b[0m in \u001b[0;36mread_csv\u001b[0;34m(filepath_or_buffer, sep, delimiter, header, names, index_col, usecols, squeeze, prefix, mangle_dupe_cols, dtype, engine, converters, true_values, false_values, skipinitialspace, skiprows, skipfooter, nrows, na_values, keep_default_na, na_filter, verbose, skip_blank_lines, parse_dates, infer_datetime_format, keep_date_col, date_parser, dayfirst, cache_dates, iterator, chunksize, compression, thousands, decimal, lineterminator, quotechar, quoting, doublequote, escapechar, comment, encoding, encoding_errors, dialect, error_bad_lines, warn_bad_lines, on_bad_lines, delim_whitespace, low_memory, memory_map, float_precision, storage_options)\u001b[0m\n\u001b[1;32m    676\u001b[0m     \u001b[0mkwds\u001b[0m\u001b[0;34m.\u001b[0m\u001b[0mupdate\u001b[0m\u001b[0;34m(\u001b[0m\u001b[0mkwds_defaults\u001b[0m\u001b[0;34m)\u001b[0m\u001b[0;34m\u001b[0m\u001b[0;34m\u001b[0m\u001b[0m\n\u001b[1;32m    677\u001b[0m \u001b[0;34m\u001b[0m\u001b[0m\n\u001b[0;32m--> 678\u001b[0;31m     \u001b[0;32mreturn\u001b[0m \u001b[0m_read\u001b[0m\u001b[0;34m(\u001b[0m\u001b[0mfilepath_or_buffer\u001b[0m\u001b[0;34m,\u001b[0m \u001b[0mkwds\u001b[0m\u001b[0;34m)\u001b[0m\u001b[0;34m\u001b[0m\u001b[0;34m\u001b[0m\u001b[0m\n\u001b[0m\u001b[1;32m    679\u001b[0m \u001b[0;34m\u001b[0m\u001b[0m\n\u001b[1;32m    680\u001b[0m \u001b[0;34m\u001b[0m\u001b[0m\n",
      "\u001b[0;32m~/anaconda3/lib/python3.9/site-packages/pandas/io/parsers/readers.py\u001b[0m in \u001b[0;36m_read\u001b[0;34m(filepath_or_buffer, kwds)\u001b[0m\n\u001b[1;32m    573\u001b[0m \u001b[0;34m\u001b[0m\u001b[0m\n\u001b[1;32m    574\u001b[0m     \u001b[0;31m# Create the parser.\u001b[0m\u001b[0;34m\u001b[0m\u001b[0;34m\u001b[0m\u001b[0m\n\u001b[0;32m--> 575\u001b[0;31m     \u001b[0mparser\u001b[0m \u001b[0;34m=\u001b[0m \u001b[0mTextFileReader\u001b[0m\u001b[0;34m(\u001b[0m\u001b[0mfilepath_or_buffer\u001b[0m\u001b[0;34m,\u001b[0m \u001b[0;34m**\u001b[0m\u001b[0mkwds\u001b[0m\u001b[0;34m)\u001b[0m\u001b[0;34m\u001b[0m\u001b[0;34m\u001b[0m\u001b[0m\n\u001b[0m\u001b[1;32m    576\u001b[0m \u001b[0;34m\u001b[0m\u001b[0m\n\u001b[1;32m    577\u001b[0m     \u001b[0;32mif\u001b[0m \u001b[0mchunksize\u001b[0m \u001b[0;32mor\u001b[0m \u001b[0miterator\u001b[0m\u001b[0;34m:\u001b[0m\u001b[0;34m\u001b[0m\u001b[0;34m\u001b[0m\u001b[0m\n",
      "\u001b[0;32m~/anaconda3/lib/python3.9/site-packages/pandas/io/parsers/readers.py\u001b[0m in \u001b[0;36m__init__\u001b[0;34m(self, f, engine, **kwds)\u001b[0m\n\u001b[1;32m    930\u001b[0m \u001b[0;34m\u001b[0m\u001b[0m\n\u001b[1;32m    931\u001b[0m         \u001b[0mself\u001b[0m\u001b[0;34m.\u001b[0m\u001b[0mhandles\u001b[0m\u001b[0;34m:\u001b[0m \u001b[0mIOHandles\u001b[0m \u001b[0;34m|\u001b[0m \u001b[0;32mNone\u001b[0m \u001b[0;34m=\u001b[0m \u001b[0;32mNone\u001b[0m\u001b[0;34m\u001b[0m\u001b[0;34m\u001b[0m\u001b[0m\n\u001b[0;32m--> 932\u001b[0;31m         \u001b[0mself\u001b[0m\u001b[0;34m.\u001b[0m\u001b[0m_engine\u001b[0m \u001b[0;34m=\u001b[0m \u001b[0mself\u001b[0m\u001b[0;34m.\u001b[0m\u001b[0m_make_engine\u001b[0m\u001b[0;34m(\u001b[0m\u001b[0mf\u001b[0m\u001b[0;34m,\u001b[0m \u001b[0mself\u001b[0m\u001b[0;34m.\u001b[0m\u001b[0mengine\u001b[0m\u001b[0;34m)\u001b[0m\u001b[0;34m\u001b[0m\u001b[0;34m\u001b[0m\u001b[0m\n\u001b[0m\u001b[1;32m    933\u001b[0m \u001b[0;34m\u001b[0m\u001b[0m\n\u001b[1;32m    934\u001b[0m     \u001b[0;32mdef\u001b[0m \u001b[0mclose\u001b[0m\u001b[0;34m(\u001b[0m\u001b[0mself\u001b[0m\u001b[0;34m)\u001b[0m\u001b[0;34m:\u001b[0m\u001b[0;34m\u001b[0m\u001b[0;34m\u001b[0m\u001b[0m\n",
      "\u001b[0;32m~/anaconda3/lib/python3.9/site-packages/pandas/io/parsers/readers.py\u001b[0m in \u001b[0;36m_make_engine\u001b[0;34m(self, f, engine)\u001b[0m\n\u001b[1;32m   1214\u001b[0m             \u001b[0;31m# \"Union[str, PathLike[str], ReadCsvBuffer[bytes], ReadCsvBuffer[str]]\"\u001b[0m\u001b[0;34m\u001b[0m\u001b[0;34m\u001b[0m\u001b[0m\n\u001b[1;32m   1215\u001b[0m             \u001b[0;31m# , \"str\", \"bool\", \"Any\", \"Any\", \"Any\", \"Any\", \"Any\"\u001b[0m\u001b[0;34m\u001b[0m\u001b[0;34m\u001b[0m\u001b[0m\n\u001b[0;32m-> 1216\u001b[0;31m             self.handles = get_handle(  # type: ignore[call-overload]\n\u001b[0m\u001b[1;32m   1217\u001b[0m                 \u001b[0mf\u001b[0m\u001b[0;34m,\u001b[0m\u001b[0;34m\u001b[0m\u001b[0;34m\u001b[0m\u001b[0m\n\u001b[1;32m   1218\u001b[0m                 \u001b[0mmode\u001b[0m\u001b[0;34m,\u001b[0m\u001b[0;34m\u001b[0m\u001b[0;34m\u001b[0m\u001b[0m\n",
      "\u001b[0;32m~/anaconda3/lib/python3.9/site-packages/pandas/io/common.py\u001b[0m in \u001b[0;36mget_handle\u001b[0;34m(path_or_buf, mode, encoding, compression, memory_map, is_text, errors, storage_options)\u001b[0m\n\u001b[1;32m    784\u001b[0m         \u001b[0;32mif\u001b[0m \u001b[0mioargs\u001b[0m\u001b[0;34m.\u001b[0m\u001b[0mencoding\u001b[0m \u001b[0;32mand\u001b[0m \u001b[0;34m\"b\"\u001b[0m \u001b[0;32mnot\u001b[0m \u001b[0;32min\u001b[0m \u001b[0mioargs\u001b[0m\u001b[0;34m.\u001b[0m\u001b[0mmode\u001b[0m\u001b[0;34m:\u001b[0m\u001b[0;34m\u001b[0m\u001b[0;34m\u001b[0m\u001b[0m\n\u001b[1;32m    785\u001b[0m             \u001b[0;31m# Encoding\u001b[0m\u001b[0;34m\u001b[0m\u001b[0;34m\u001b[0m\u001b[0m\n\u001b[0;32m--> 786\u001b[0;31m             handle = open(\n\u001b[0m\u001b[1;32m    787\u001b[0m                 \u001b[0mhandle\u001b[0m\u001b[0;34m,\u001b[0m\u001b[0;34m\u001b[0m\u001b[0;34m\u001b[0m\u001b[0m\n\u001b[1;32m    788\u001b[0m                 \u001b[0mioargs\u001b[0m\u001b[0;34m.\u001b[0m\u001b[0mmode\u001b[0m\u001b[0;34m,\u001b[0m\u001b[0;34m\u001b[0m\u001b[0;34m\u001b[0m\u001b[0m\n",
      "\u001b[0;31mFileNotFoundError\u001b[0m: [Errno 2] No such file or directory: 'notas_discentes_2017.1.csv'"
     ]
    }
   ],
   "source": [
    "notas = pd.read_csv('notas_discentes_2017.1.csv', sep=';', encoding='latin1')\n",
    "notas = notas.drop(['Nome', 'Siape', 'Horário', 'Situação'], axis=1)"
   ]
  },
  {
   "cell_type": "code",
   "execution_count": null,
   "metadata": {
    "id": "lFYs3UPRnRcS",
    "outputId": "b287bac0-71fd-4f2d-8908-bce3340b60d4"
   },
   "outputs": [],
   "source": [
    "#rascunhos de teste\n",
    "\n",
    "# notasFinal = pd.DataFrame()\n",
    "# vetorTeste = []\n",
    "# for i in range(len(notas)):\n",
    "#     one_nota=notas.loc[i]\n",
    "#     if one_nota['Nota'][0].isdigit():\n",
    "#         notasFinal=notasFinal.append(one_nota)\n",
    "# notasFinal = notasFinal.reset_index() \n",
    "# notasFinal = notasFinal.drop('index', axis=1)\n",
    "# notasFinal"
   ]
  },
  {
   "cell_type": "code",
   "execution_count": null,
   "metadata": {
    "id": "DY_IBoFbnRcX",
    "outputId": "8ed877e5-e743-4ad6-e6df-add6dd459cdb"
   },
   "outputs": [],
   "source": [
    "#rascunhos de teste\n",
    "\n",
    "# for i in range(len(notasFinal)):\n",
    "#     notasFinal['Nota'][i] = float(notasFinal['Nota'][i])\n",
    "# notasFinal"
   ]
  },
  {
   "cell_type": "code",
   "execution_count": null,
   "metadata": {
    "id": "ItttsVbLnRcZ",
    "outputId": "1000d77f-5975-493b-fe42-60948f0db495"
   },
   "outputs": [],
   "source": [
    "#rascunhos de teste\n",
    "\n",
    "# notasFinal['Situação']=0\n",
    "# for i in range(len(notasFinal)):\n",
    "#     if notasFinal['Nota'][i]>=5:\n",
    "#         notasFinal['Situação'][i]=1\n",
    "# notasFinal"
   ]
  },
  {
   "cell_type": "code",
   "execution_count": null,
   "metadata": {
    "id": "x9Yzh0DZnRca"
   },
   "outputs": [],
   "source": [
    "teste= pd.read_csv('notas_discentes_2017.1.csv', sep=';', encoding='latin1')\n",
    "csv_todo=teste.copy()\n",
    "teste = teste.drop(['Nome', 'Siape', 'Horário'], axis=1)\n",
    "\n",
    "# pegando somente aqueles que contem uma nota final\n",
    "testeS = pd.DataFrame()\n",
    "vetorTeste = []\n",
    "for i in range(len(notas)):\n",
    "    one_nota=teste.loc[i]\n",
    "    if one_nota['Nota'][0].isdigit():\n",
    "        testeS=testeS.append(one_nota)\n",
    "testeS = testeS.reset_index() \n",
    "testeS = testeS.drop('index', axis=1)"
   ]
  },
  {
   "cell_type": "code",
   "execution_count": null,
   "metadata": {},
   "outputs": [],
   "source": [
    "for i in range(len(testeS)):\n",
    "    testeS['Nota'][i] = float(testeS['Nota'][i])"
   ]
  },
  {
   "cell_type": "code",
   "execution_count": null,
   "metadata": {},
   "outputs": [],
   "source": [
    "#rascunhos de teste\n",
    "\n",
    "# testeF = notasFinal.drop('Situação', axis=1)\n",
    "# testeF"
   ]
  },
  {
   "cell_type": "code",
   "execution_count": null,
   "metadata": {},
   "outputs": [],
   "source": [
    "#rascunhos de teste\n",
    "\n",
    "# testeSF = pd.DataFrame()\n",
    "\n",
    "# for i in range(len(testeS)):\n",
    "#     one_nota=testeS.loc[i]\n",
    "#     if one_nota['Nota'][0].isdigit():\n",
    "#         testeSF=testeSF.append(one_nota)\n",
    "# testeSF = testeSF.reset_index() \n",
    "# testeSF = testeSF.drop('index', axis=1)\n",
    "\n",
    "# for i in range(len(testeSF)):\n",
    "#     testeSF['Nota'][i] = float(testeSF['Nota'][i])\n",
    "# testeSF"
   ]
  },
  {
   "cell_type": "code",
   "execution_count": null,
   "metadata": {},
   "outputs": [],
   "source": [
    "#agrupando quantidade de situações por código e turma\n",
    "\n",
    "porSituacao = testeS.groupby(['Período', 'Código', 'Turma', 'Situação'])['Matrícula'].count().reset_index(name='Alunos')\n",
    "porSituacao=porSituacao.drop('Período', axis=1)\n",
    "porSituacao"
   ]
  },
  {
   "cell_type": "code",
   "execution_count": null,
   "metadata": {},
   "outputs": [],
   "source": [
    "#rascunhos de teste\n",
    "\n",
    "# final = pd.DataFrame(columns=['Código'])\n",
    "# for i in range(len(porSituacao)):\n",
    "#     oneCod = porSituacao[porSituacao['Código']==porSituacao['Código'][i]]\n",
    "#     temTurma = final[final['Código']==oneCod['Código'][i]]\n",
    "#     if len(temTurma)>0:\n",
    "#         continue\n",
    "#     nTurmas=pd.DataFrame()\n",
    "#     oneCod = oneCod.reset_index()\n",
    "#     oneCod = oneCod.drop('index', axis=1)\n",
    "#     qtdTurmas=oneCod['Turmas'].drop_duplicates().tolist()\n",
    "#     for a in range(len(qtdTurmas)):\n",
    "#         turmaAqui=oneCod[oneCod['Turma']==qtdTurmas[a]]\n",
    "#         nSitu = pd.DataFrame()\n",
    "#         qtdSitu=turmaAqui['Situação'].drop_duplicates().tolist()\n",
    "#         for b in range(len(qtdSitu)):\n",
    "# #             situAqui=turmaAqui['Situação']\n",
    "#             b=dict({'Situação':qtdSitu[i], Alunos:''})\n",
    "#         nTurmas=\n",
    "#     final=final.append(oneCod)"
   ]
  },
  {
   "cell_type": "code",
   "execution_count": null,
   "metadata": {},
   "outputs": [],
   "source": [
    "#trazendo o objetivo final: agrupar quantidade de cada situação por nome/código\n",
    "\n",
    "situacoes=porSituacao['Situação'].drop_duplicates().tolist()\n",
    "final = pd.DataFrame(columns=[''])\n",
    "for i in range(len(porSituacao)):\n",
    "    oneCod = porSituacao[porSituacao['Código']==porSituacao['Código'][i]]\n",
    "    if i!=0:\n",
    "        temTurma = final[final['Code']==oneCod['Código'][i]]\n",
    "        if len(temTurma)>0:\n",
    "            continue\n",
    "    codigoAqui=oneCod['Código'].tolist()\n",
    "    codigoAqui=codigoAqui[0]\n",
    "    nomeAqui=csv_todo[csv_todo['Código']==codigoAqui]\n",
    "    nomeAqui=nomeAqui['Nome'].tolist()\n",
    "    nomeAqui=nomeAqui[0]\n",
    "    \n",
    "    situAqui=oneCod['Situação'].tolist()\n",
    "    semSitu=list(set(situacoes) - set(situAqui))\n",
    "    \n",
    "    qtdApr=0\n",
    "    qtdRepPN=0\n",
    "    qtdRepPMF=0\n",
    "    qtdExc=0\n",
    "    qtdRep=0\n",
    "    qtdRepPF=0\n",
    "    qtdAprPN=0\n",
    "    qtdCan=0\n",
    "    qtdRepPNF=0\n",
    "    qtdTra=0\n",
    "    \n",
    "    for a in situacoes:\n",
    "        for b in situAqui:\n",
    "            if b==a and b=='APROVADO':\n",
    "                qtdApr=oneCod[oneCod['Situação']==b]\n",
    "                qtdApr=qtdApr['Alunos'].tolist()\n",
    "                qtdApr=qtdApr[0]\n",
    "                continue\n",
    "            if b==a and b=='CANCELADO':\n",
    "                qtdCan=oneCod[oneCod['Situação']==b]\n",
    "                qtdCan=qtdCan['Alunos'].tolist()\n",
    "                qtdCan=qtdCan[0]\n",
    "                continue\n",
    "            if b==a and b=='REPROVADO':\n",
    "                qtdRep=oneCod[oneCod['Situação']==b]\n",
    "                qtdRep=qtdRep['Alunos'].tolist()\n",
    "                qtdRep=qtdRep[0]\n",
    "                continue\n",
    "            if b==a and b=='EXCLUIDA':\n",
    "                qtdExc=oneCod[oneCod['Situação']==b]\n",
    "                qtdExc=qtdExc['Alunos'].tolist()\n",
    "                qtdExc=qtdExc[0]\n",
    "                continue\n",
    "            if b==a and b=='REPROVADO POR NOTA':\n",
    "                qtdRepPN=oneCod[oneCod['Situação']==b]\n",
    "                qtdRepPN=qtdRepPN['Alunos'].tolist()\n",
    "                qtdRepPN=qtdRepPN[0]\n",
    "                continue\n",
    "            if b==a and b=='REPROVADO POR MÉDIA E POR FALTAS':\n",
    "                qtdRepPMF=oneCod[oneCod['Situação']==b]\n",
    "                qtdRepPMF=qtdRepPMF['Alunos'].tolist()\n",
    "                qtdRepPMF=qtdRepPMF[0]\n",
    "                continue\n",
    "            if b==a and b=='APROVADO POR NOTA':\n",
    "                qtdAprPN=oneCod[oneCod['Situação']==b]\n",
    "                qtdAprPN=qtdAprPN['Alunos'].tolist()\n",
    "                qtdAprPN=qtdAprPN[0]\n",
    "                continue\n",
    "            if b==a and b=='TRANCADO':\n",
    "                qtdTra=oneCod[oneCod['Situação']==b]\n",
    "                qtdTra=qtdTra['Alunos'].tolist()\n",
    "                qtdTra=qtdTra[0]\n",
    "                continue\n",
    "            if b==a and b=='REPROVADO POR FALTAS':\n",
    "                qtdRepPF=oneCod[oneCod['Situação']==b]\n",
    "                qtdRepPF=qtdRepPF['Alunos'].tolist()\n",
    "                qtdRepPF=qtdRepPF[0]\n",
    "                continue\n",
    "            if b==a and b=='REPROVADO POR NOTA E FALTA':\n",
    "                qtdRepPNF=oneCod[oneCod['Situação']==b]\n",
    "                qtdRepPNF=qtdRepPNF['Alunos'].tolist()\n",
    "                qtdRepPNF=qtdRepPNF[0]\n",
    "                continue\n",
    "#     qtdApr=0\n",
    "#     qtdRepPN=0\n",
    "#     qtdRepPMF=0\n",
    "#     qtdExc=0\n",
    "#     qtdRep=0\n",
    "#     qtdRepPF=0\n",
    "#     qtdAprPN=0\n",
    "#     qtdCan=0\n",
    "#     qtdRepPNF=0\n",
    "#     qtdTra=0\n",
    "    b=dict({'Code':codigoAqui, 'Name':nomeAqui, 'APPROVED':qtdApr, 'CANCELED':qtdCan, 'DISAPPROVED':qtdRep,\n",
    "            'EXCLUDED':qtdExc, 'DISAPPROVED BY GRADE':qtdRepPN, 'DISAPPROVED BY MEAN AND BY ABSENCE':qtdRepPMF,\n",
    "            'APPROVED BY GRADE':qtdAprPN, 'LOCK':qtdTra, 'DISAPPROVED BY ABSENCE':qtdRepPF, 'DISAPPROVED BY GRADE AND ABSENCE':qtdRepPNF})\n",
    "    final=final.append(b, ignore_index=True)\n",
    "final=final.drop('',axis=1)\n",
    "# final.fillna(0).to_json(force_ascii=False,orient='records')"
   ]
  },
  {
   "cell_type": "code",
   "execution_count": null,
   "metadata": {},
   "outputs": [],
   "source": [
    "final"
   ]
  },
  {
   "cell_type": "code",
   "execution_count": null,
   "metadata": {},
   "outputs": [],
   "source": [
    "#rascunhos de teste\n",
    "\n",
    "# situacoes=porSituacao['Situação'].drop_duplicates().tolist()\n",
    "# oneCod = porSituacao[porSituacao['Código']==porSituacao['Código'][0]]\n",
    "# situAqui=oneCod['Situação'].tolist()\n",
    "# situAqui"
   ]
  },
  {
   "cell_type": "code",
   "execution_count": null,
   "metadata": {},
   "outputs": [],
   "source": [
    "#rascunhos de teste\n",
    "\n",
    "# result = list(set(situacoes) - set(situAqui))\n",
    "# result"
   ]
  },
  {
   "cell_type": "code",
   "execution_count": null,
   "metadata": {},
   "outputs": [],
   "source": []
  }
 ],
 "metadata": {
  "colab": {
   "provenance": []
  },
  "kernelspec": {
   "display_name": "Python 3 (ipykernel)",
   "language": "python",
   "name": "python3"
  },
  "language_info": {
   "codemirror_mode": {
    "name": "ipython",
    "version": 3
   },
   "file_extension": ".py",
   "mimetype": "text/x-python",
   "name": "python",
   "nbconvert_exporter": "python",
   "pygments_lexer": "ipython3",
   "version": "3.9.13"
  }
 },
 "nbformat": 4,
 "nbformat_minor": 1
}
